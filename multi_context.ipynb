{
 "cells": [
  {
   "cell_type": "code",
   "execution_count": 1,
   "metadata": {
    "ExecuteTime": {
     "end_time": "2023-07-31T09:57:29.794998Z",
     "start_time": "2023-07-31T09:57:28.856268Z"
    },
    "id": "IjDObjBy83vs"
   },
   "outputs": [],
   "source": [
    "import matplotlib.pyplot as plt\n",
    "import numpy as np\n",
    "import torch\n",
    "\n",
    "from tqdm import tqdm\n",
    "\n",
    "import ipywidgets as widgets\n",
    "from src.models import ContextSpaceNet"
   ]
  },
  {
   "cell_type": "code",
   "execution_count": null,
   "metadata": {
    "ExecuteTime": {
     "end_time": "2023-07-31T09:57:31.850806Z",
     "start_time": "2023-07-31T09:57:31.564768Z"
    },
    "id": "ZEFTr84z85XS"
   },
   "outputs": [],
   "source": []
  },
  {
   "cell_type": "code",
   "execution_count": 2,
   "metadata": {
    "ExecuteTime": {
     "end_time": "2023-07-31T09:58:54.514166Z",
     "start_time": "2023-07-31T09:57:32.397342Z"
    },
    "colab": {
     "base_uri": "https://localhost:8080/"
    },
    "id": "dQwOiQ7AkpIk",
    "outputId": "7e88d90a-d418-4754-a556-5d7a329c5665"
   },
   "outputs": [
    {
     "name": "stderr",
     "output_type": "stream",
     "text": [
      "loss: 0.003086: 100%|████████████████████████████████████████████████████████████████████| 50000/50000 [00:47<00:00, 1045.63it/s]\n"
     ]
    }
   ],
   "source": [
    "train_steps = 50000\n",
    "\n",
    "nc = 5\n",
    "n_in = 2 + nc # 2 position + 1 context\n",
    "n_out = 100 # no. of spatial representations\n",
    "bs = 128 # batch size\n",
    "\n",
    "model = ContextSpaceNet(n_in, n_out, scale = 0.1, lam = 0.1)\n",
    "optimizer = torch.optim.Adam(model.parameters(), lr=1e-3)\n",
    "\n",
    "loss_history = []\n",
    "progress = tqdm(range(train_steps))\n",
    "for i in progress: # train loop\n",
    "    r = torch.tensor(np.random.uniform(-1, 1, (bs, 2)), dtype= torch.float32)\n",
    "    c = torch.tensor(np.random.uniform(-1, 1, (bs, nc)), dtype = torch.float32)\n",
    "    inputs = torch.cat((r, c), dim = -1)\n",
    "    labels = (r, c)\n",
    "\n",
    "    loss = model.train_step(x = inputs, y = labels, optimizer = optimizer)\n",
    "\n",
    "    if i % 10 == 0:\n",
    "        loss_history.append(loss)\n",
    "        progress.set_description(f\"loss: {loss:>7f}\")"
   ]
  },
  {
   "cell_type": "code",
   "execution_count": 3,
   "metadata": {
    "ExecuteTime": {
     "end_time": "2023-07-31T10:00:15.586625Z",
     "start_time": "2023-07-31T10:00:15.374586Z"
    },
    "colab": {
     "base_uri": "https://localhost:8080/",
     "height": 303
    },
    "id": "Qfe8RuSqUGkB",
    "outputId": "16a33e45-a23d-4979-99a9-4f1cda951cdd"
   },
   "outputs": [
    {
     "data": {
      "text/plain": [
       "Text(0, 0.5, 'Train Loss')"
      ]
     },
     "execution_count": 3,
     "metadata": {},
     "output_type": "execute_result"
    },
    {
     "data": {
      "image/png": "[encoded data removed]",
      "text/plain": [
       "<Figure size 640x480 with 1 Axes>"
      ]
     },
     "metadata": {},
     "output_type": "display_data"
    }
   ],
   "source": [
    "plt.semilogy(np.arange(0, train_steps, 10), loss_history, \"-k\", linewidth = 0.7)\n",
    "plt.xlabel(\"Train Step\")\n",
    "plt.ylabel(\"Train Loss\")"
   ]
  },
  {
   "cell_type": "code",
   "execution_count": 4,
   "metadata": {
    "ExecuteTime": {
     "end_time": "2023-07-31T10:00:17.587571Z",
     "start_time": "2023-07-31T10:00:17.582235Z"
    },
    "id": "t3N2N0JCmT3_"
   },
   "outputs": [],
   "source": [
    "# evaluate on 2x2 grid\n",
    "n = 32\n",
    "x = np.linspace(-1, 1, n)\n",
    "y = x.copy()\n",
    "xx, yy = np.meshgrid(x,y)\n",
    "u = torch.tensor(np.stack([xx.ravel(), yy.ravel()], axis = -1), dtype= torch.float32)"
   ]
  },
  {
   "cell_type": "code",
   "execution_count": 5,
   "metadata": {
    "ExecuteTime": {
     "end_time": "2023-07-31T10:03:23.567092Z",
     "start_time": "2023-07-31T10:03:23.261180Z"
    },
    "id": "Qg94kxuyoiIA"
   },
   "outputs": [
    {
     "data": {
      "application/vnd.jupyter.widget-view+json": {
       "model_id": "b2acf72a5ba64f7ab9e0a3f7f0773db2",
       "version_major": 2,
       "version_minor": 0
      },
      "text/plain": [
       "interactive(children=(FloatSlider(value=0.0, description='a:', max=1.0, min=-1.0, step=0.01), FloatSlider(valu…"
      ]
     },
     "execution_count": 5,
     "metadata": {},
     "output_type": "execute_result"
    }
   ],
   "source": [
    "n_show = 5   # show ratemaps for first n_show nodes\n",
    "cols = np.linspace(0,1, n_out)\n",
    "\n",
    "def f(a, b):\n",
    "    fig, ax = plt.subplots(n_show, n_show, figsize = (5, 5))\n",
    "    context = torch.tensor(np.zeros((len(u), nc)), dtype = torch.float32)\n",
    "    context[:,0] = a\n",
    "    context[:,1] = b\n",
    "    \n",
    "    inputs = torch.cat((u, context), dim = -1)\n",
    "    p = model.spatial_representation(inputs)\n",
    "    p = p.detach().numpy()\n",
    "\n",
    "    max_ind = np.argmax(p, axis = 0) \n",
    "    max_loc = u[max_ind]\n",
    "    \n",
    "    #spatial_correlation at center\n",
    "    s_corr = np.exp(np.sum(-(p[512+16][None] - p)**2,axis=-1)).reshape(32,32)\n",
    "    vmax = np.amax(p[:,:n_show**2])\n",
    "    count = 0\n",
    "    for i in range(n_show):\n",
    "        for j in range(n_show):\n",
    "            ax[i,j].imshow(p[:,count].reshape((n,n)), cmap = \"jet\", interpolation = \"none\")#, vmax = vmax)\n",
    "            ax[i,j].axis(\"off\")\n",
    "            count += 1\n",
    "    \n",
    "    ax[-1,-1].imshow(s_corr, interpolation = \"none\")\n",
    "\n",
    "    fig = plt.figure()\n",
    "    mask = np.mean(p, axis = 0) > 0 # mask out active units\n",
    "    plt.title(f\"Non-zero units: {mask.sum()}\")\n",
    "\n",
    "    plt.scatter(*max_loc.T, c = cols, cmap = \"jet\")\n",
    "    plt.axis([-2, 2, -2, 2])\n",
    "    plt.axis(\"equal\")\n",
    "    \n",
    "a_slider = widgets.FloatSlider(\n",
    "    value=0,\n",
    "    min=-1.0,\n",
    "    max=1.0,\n",
    "    step=0.01,\n",
    "    description='a:',\n",
    "    readout_format='.2f')\n",
    "\n",
    "b_slider = widgets.FloatSlider(\n",
    "    value=0,\n",
    "    min=-1.0,\n",
    "    max=1.0,\n",
    "    step=0.01,\n",
    "    description='b:',\n",
    "    readout_format='.2f')\n",
    "\n",
    "\n",
    "widgets.interactive(f, a = a_slider, b = b_slider)"
   ]
  },
  {
   "cell_type": "code",
   "execution_count": null,
   "metadata": {},
   "outputs": [],
   "source": []
  }
 ],
 "metadata": {
  "accelerator": "GPU",
  "colab": {
   "provenance": []
  },
  "gpuClass": "standard",
  "kernelspec": {
   "display_name": "Python 3 (ipykernel)",
   "language": "python",
   "name": "python3"
  },
  "language_info": {
   "codemirror_mode": {
    "name": "ipython",
    "version": 3
   },
   "file_extension": ".py",
   "mimetype": "text/x-python",
   "name": "python",
   "nbconvert_exporter": "python",
   "pygments_lexer": "ipython3",
   "version": "3.9.16"
  },
  "vscode": {
   "interpreter": {
    "hash": "158bf1a15c4fcbb929163f5212278bc6479eee3a1438af15c35b95ec85568364"
   }
  }
 },
 "nbformat": 4,
 "nbformat_minor": 4
}

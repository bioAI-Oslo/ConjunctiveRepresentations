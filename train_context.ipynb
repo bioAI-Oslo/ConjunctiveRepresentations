{
 "cells": [
  {
   "cell_type": "code",
   "execution_count": 1,
   "metadata": {
    "ExecuteTime": {
     "end_time": "2023-07-31T09:57:29.794998Z",
     "start_time": "2023-07-31T09:57:28.856268Z"
    },
    "id": "IjDObjBy83vs"
   },
   "outputs": [],
   "source": [
    "import matplotlib.pyplot as plt\n",
    "import numpy as np\n",
    "import torch\n",
    "\n",
    "from tqdm import tqdm\n",
    "\n",
    "import ipywidgets as widgets\n",
    "from src.models import ContextSpaceNet"
   ]
  },
  {
   "cell_type": "code",
   "execution_count": 2,
   "metadata": {
    "ExecuteTime": {
     "end_time": "2023-07-31T09:58:54.514166Z",
     "start_time": "2023-07-31T09:57:32.397342Z"
    },
    "colab": {
     "base_uri": "https://localhost:8080/"
    },
    "id": "dQwOiQ7AkpIk",
    "outputId": "7e88d90a-d418-4754-a556-5d7a329c5665"
   },
   "outputs": [
    {
     "name": "stderr",
     "output_type": "stream",
     "text": [
      "  0%|          | 0/50000 [00:00<?, ?it/s]/home/m/miniconda3/envs/ml/lib/python3.10/site-packages/torch/autograd/__init__.py:251: UserWarning: CUDA initialization: CUDA unknown error - this may be due to an incorrectly set up environment, e.g. changing env variable CUDA_VISIBLE_DEVICES after program start. Setting the available devices to be zero. (Triggered internally at /opt/conda/conda-bld/pytorch_1695392020201/work/c10/cuda/CUDAFunctions.cpp:108.)\n",
      "  Variable._execution_engine.run_backward(  # Calls into the C++ engine to run the backward pass\n",
      "loss: 0.001485:  41%|████      | 20268/50000 [02:08<03:08, 158.07it/s]\n"
     ]
    },
    {
     "ename": "KeyboardInterrupt",
     "evalue": "",
     "output_type": "error",
     "traceback": [
      "\u001b[0;31m---------------------------------------------------------------------------\u001b[0m",
      "\u001b[0;31mKeyboardInterrupt\u001b[0m                         Traceback (most recent call last)",
      "Cell \u001b[0;32mIn[2], line 18\u001b[0m\n\u001b[1;32m     15\u001b[0m inputs \u001b[38;5;241m=\u001b[39m torch\u001b[38;5;241m.\u001b[39mcat((r, c), dim \u001b[38;5;241m=\u001b[39m \u001b[38;5;241m-\u001b[39m\u001b[38;5;241m1\u001b[39m)\n\u001b[1;32m     16\u001b[0m labels \u001b[38;5;241m=\u001b[39m (r, c)\n\u001b[0;32m---> 18\u001b[0m loss \u001b[38;5;241m=\u001b[39m \u001b[43mmodel\u001b[49m\u001b[38;5;241;43m.\u001b[39;49m\u001b[43mtrain_step\u001b[49m\u001b[43m(\u001b[49m\u001b[43mx\u001b[49m\u001b[43m \u001b[49m\u001b[38;5;241;43m=\u001b[39;49m\u001b[43m \u001b[49m\u001b[43minputs\u001b[49m\u001b[43m,\u001b[49m\u001b[43m \u001b[49m\u001b[43my\u001b[49m\u001b[43m \u001b[49m\u001b[38;5;241;43m=\u001b[39;49m\u001b[43m \u001b[49m\u001b[43mlabels\u001b[49m\u001b[43m,\u001b[49m\u001b[43m \u001b[49m\u001b[43moptimizer\u001b[49m\u001b[43m \u001b[49m\u001b[38;5;241;43m=\u001b[39;49m\u001b[43m \u001b[49m\u001b[43moptimizer\u001b[49m\u001b[43m)\u001b[49m\n\u001b[1;32m     20\u001b[0m \u001b[38;5;28;01mif\u001b[39;00m i \u001b[38;5;241m%\u001b[39m \u001b[38;5;241m10\u001b[39m \u001b[38;5;241m==\u001b[39m \u001b[38;5;241m0\u001b[39m:\n\u001b[1;32m     21\u001b[0m     loss_history\u001b[38;5;241m.\u001b[39mappend(loss)\n",
      "File \u001b[0;32m~/Documents/phd/BSR/src/models.py:31\u001b[0m, in \u001b[0;36mSpaceNetTemplate.train_step\u001b[0;34m(self, x, y, optimizer)\u001b[0m\n\u001b[1;32m     29\u001b[0m optimizer\u001b[38;5;241m.\u001b[39mzero_grad()\n\u001b[1;32m     30\u001b[0m loss \u001b[38;5;241m=\u001b[39m \u001b[38;5;28mself\u001b[39m\u001b[38;5;241m.\u001b[39mloss_fn(x, y)\n\u001b[0;32m---> 31\u001b[0m \u001b[43mloss\u001b[49m\u001b[38;5;241;43m.\u001b[39;49m\u001b[43mbackward\u001b[49m\u001b[43m(\u001b[49m\u001b[43m)\u001b[49m\n\u001b[1;32m     32\u001b[0m optimizer\u001b[38;5;241m.\u001b[39mstep()\n\u001b[1;32m     33\u001b[0m \u001b[38;5;28;01mreturn\u001b[39;00m loss\u001b[38;5;241m.\u001b[39mitem()\n",
      "File \u001b[0;32m~/miniconda3/envs/ml/lib/python3.10/site-packages/torch/_tensor.py:492\u001b[0m, in \u001b[0;36mTensor.backward\u001b[0;34m(self, gradient, retain_graph, create_graph, inputs)\u001b[0m\n\u001b[1;32m    482\u001b[0m \u001b[38;5;28;01mif\u001b[39;00m has_torch_function_unary(\u001b[38;5;28mself\u001b[39m):\n\u001b[1;32m    483\u001b[0m     \u001b[38;5;28;01mreturn\u001b[39;00m handle_torch_function(\n\u001b[1;32m    484\u001b[0m         Tensor\u001b[38;5;241m.\u001b[39mbackward,\n\u001b[1;32m    485\u001b[0m         (\u001b[38;5;28mself\u001b[39m,),\n\u001b[0;32m   (...)\u001b[0m\n\u001b[1;32m    490\u001b[0m         inputs\u001b[38;5;241m=\u001b[39minputs,\n\u001b[1;32m    491\u001b[0m     )\n\u001b[0;32m--> 492\u001b[0m \u001b[43mtorch\u001b[49m\u001b[38;5;241;43m.\u001b[39;49m\u001b[43mautograd\u001b[49m\u001b[38;5;241;43m.\u001b[39;49m\u001b[43mbackward\u001b[49m\u001b[43m(\u001b[49m\n\u001b[1;32m    493\u001b[0m \u001b[43m    \u001b[49m\u001b[38;5;28;43mself\u001b[39;49m\u001b[43m,\u001b[49m\u001b[43m \u001b[49m\u001b[43mgradient\u001b[49m\u001b[43m,\u001b[49m\u001b[43m \u001b[49m\u001b[43mretain_graph\u001b[49m\u001b[43m,\u001b[49m\u001b[43m \u001b[49m\u001b[43mcreate_graph\u001b[49m\u001b[43m,\u001b[49m\u001b[43m \u001b[49m\u001b[43minputs\u001b[49m\u001b[38;5;241;43m=\u001b[39;49m\u001b[43minputs\u001b[49m\n\u001b[1;32m    494\u001b[0m \u001b[43m\u001b[49m\u001b[43m)\u001b[49m\n",
      "File \u001b[0;32m~/miniconda3/envs/ml/lib/python3.10/site-packages/torch/autograd/__init__.py:251\u001b[0m, in \u001b[0;36mbackward\u001b[0;34m(tensors, grad_tensors, retain_graph, create_graph, grad_variables, inputs)\u001b[0m\n\u001b[1;32m    246\u001b[0m     retain_graph \u001b[38;5;241m=\u001b[39m create_graph\n\u001b[1;32m    248\u001b[0m \u001b[38;5;66;03m# The reason we repeat the same comment below is that\u001b[39;00m\n\u001b[1;32m    249\u001b[0m \u001b[38;5;66;03m# some Python versions print out the first line of a multi-line function\u001b[39;00m\n\u001b[1;32m    250\u001b[0m \u001b[38;5;66;03m# calls in the traceback and some print out the last line\u001b[39;00m\n\u001b[0;32m--> 251\u001b[0m \u001b[43mVariable\u001b[49m\u001b[38;5;241;43m.\u001b[39;49m\u001b[43m_execution_engine\u001b[49m\u001b[38;5;241;43m.\u001b[39;49m\u001b[43mrun_backward\u001b[49m\u001b[43m(\u001b[49m\u001b[43m  \u001b[49m\u001b[38;5;66;43;03m# Calls into the C++ engine to run the backward pass\u001b[39;49;00m\n\u001b[1;32m    252\u001b[0m \u001b[43m    \u001b[49m\u001b[43mtensors\u001b[49m\u001b[43m,\u001b[49m\n\u001b[1;32m    253\u001b[0m \u001b[43m    \u001b[49m\u001b[43mgrad_tensors_\u001b[49m\u001b[43m,\u001b[49m\n\u001b[1;32m    254\u001b[0m \u001b[43m    \u001b[49m\u001b[43mretain_graph\u001b[49m\u001b[43m,\u001b[49m\n\u001b[1;32m    255\u001b[0m \u001b[43m    \u001b[49m\u001b[43mcreate_graph\u001b[49m\u001b[43m,\u001b[49m\n\u001b[1;32m    256\u001b[0m \u001b[43m    \u001b[49m\u001b[43minputs\u001b[49m\u001b[43m,\u001b[49m\n\u001b[1;32m    257\u001b[0m \u001b[43m    \u001b[49m\u001b[43mallow_unreachable\u001b[49m\u001b[38;5;241;43m=\u001b[39;49m\u001b[38;5;28;43;01mTrue\u001b[39;49;00m\u001b[43m,\u001b[49m\n\u001b[1;32m    258\u001b[0m \u001b[43m    \u001b[49m\u001b[43maccumulate_grad\u001b[49m\u001b[38;5;241;43m=\u001b[39;49m\u001b[38;5;28;43;01mTrue\u001b[39;49;00m\u001b[43m,\u001b[49m\n\u001b[1;32m    259\u001b[0m \u001b[43m\u001b[49m\u001b[43m)\u001b[49m\n",
      "\u001b[0;31mKeyboardInterrupt\u001b[0m: "
     ]
    }
   ],
   "source": [
    "train_steps = 50000\n",
    "\n",
    "n_in = 3 # 2 position + 1 context\n",
    "n_out = 100 # no. of spatial representations\n",
    "bs = 64 # batch size\n",
    "\n",
    "model = ContextSpaceNet(n_in, n_out)\n",
    "optimizer = torch.optim.Adam(model.parameters(), lr=1e-4)\n",
    "\n",
    "loss_history = []\n",
    "progress = tqdm(range(train_steps))\n",
    "for i in progress: # train loop\n",
    "    r = torch.tensor(np.random.uniform(-1, 1, (bs, 2)), dtype= torch.float32)\n",
    "    c = torch.tensor(np.random.uniform(-2, 2, bs), dtype = torch.float32)[:,None]\n",
    "    inputs = torch.cat((r, c), dim = -1)\n",
    "    labels = (r, c)\n",
    "\n",
    "    loss = model.train_step(x = inputs, y = labels, optimizer = optimizer)\n",
    "    \n",
    "    if i % 10 == 0:\n",
    "        loss_history.append(loss)\n",
    "        progress.set_description(f\"loss: {loss:>7f}\")"
   ]
  },
  {
   "cell_type": "code",
   "execution_count": 3,
   "metadata": {},
   "outputs": [],
   "source": [
    "model.save(\"./saved_models/FF_context\")"
   ]
  },
  {
   "cell_type": "code",
   "execution_count": 4,
   "metadata": {
    "ExecuteTime": {
     "end_time": "2023-07-31T10:00:15.586625Z",
     "start_time": "2023-07-31T10:00:15.374586Z"
    },
    "colab": {
     "base_uri": "https://localhost:8080/",
     "height": 303
    },
    "id": "Qfe8RuSqUGkB",
    "outputId": "16a33e45-a23d-4979-99a9-4f1cda951cdd"
   },
   "outputs": [
    {
     "data": {
      "text/plain": [
       "Text(0, 0.5, 'Train Loss')"
      ]
     },
     "execution_count": 4,
     "metadata": {},
     "output_type": "execute_result"
    },
    {
     "data": {
      "image/png": "[encoded data removed]",
      "text/plain": [
       "<Figure size 640x480 with 1 Axes>"
      ]
     },
     "metadata": {},
     "output_type": "display_data"
    }
   ],
   "source": [
    "plt.semilogy( loss_history, \"-k\", linewidth = 0.7)\n",
    "plt.xlabel(\"Train Step\")\n",
    "plt.ylabel(\"Train Loss\")"
   ]
  },
  {
   "cell_type": "code",
   "execution_count": 5,
   "metadata": {
    "ExecuteTime": {
     "end_time": "2023-07-31T10:00:17.587571Z",
     "start_time": "2023-07-31T10:00:17.582235Z"
    },
    "id": "t3N2N0JCmT3_"
   },
   "outputs": [],
   "source": [
    "# evaluate on 2x2 grid\n",
    "n = 32\n",
    "x = np.linspace(-1, 1, n)\n",
    "y = x.copy()\n",
    "xx, yy = np.meshgrid(x,y)\n",
    "u = torch.tensor(np.stack([xx.ravel(), yy.ravel()], axis = -1), dtype= torch.float32)"
   ]
  },
  {
   "cell_type": "code",
   "execution_count": 6,
   "metadata": {
    "ExecuteTime": {
     "end_time": "2023-07-31T10:03:23.567092Z",
     "start_time": "2023-07-31T10:03:23.261180Z"
    },
    "id": "Qg94kxuyoiIA"
   },
   "outputs": [
    {
     "data": {
      "application/vnd.jupyter.widget-view+json": {
       "model_id": "010ae237ae1e4f73b338bbdc2b500805",
       "version_major": 2,
       "version_minor": 0
      },
      "text/plain": [
       "interactive(children=(FloatSlider(value=0.0, description='c:', max=2.0, min=-2.0, step=0.01), Output()), _dom_…"
      ]
     },
     "execution_count": 6,
     "metadata": {},
     "output_type": "execute_result"
    }
   ],
   "source": [
    "n_show = 5   # show ratemaps for first n_show nodes\n",
    "cols = np.linspace(0,1, n_out)\n",
    "\n",
    "def f(c):\n",
    "    fig, ax = plt.subplots(n_show, n_show, figsize = (5, 5))\n",
    "    context = c*torch.tensor(np.ones(len(u)), dtype = torch.float32)\n",
    "    inputs = torch.cat((u, context[...,None]), dim = -1)\n",
    "    p = model.spatial_representation(inputs)\n",
    "    p = p.detach().numpy()\n",
    "\n",
    "    max_ind = np.argmax(p, axis = 0) \n",
    "    max_loc = u[max_ind]\n",
    "    \n",
    "    mask = np.mean(p, axis = 0) > 0 # mask out active units\n",
    "    ax[0,0].set_title(f\"Non-zero units: {mask.sum()}\")\n",
    "\n",
    "    ax[0,0].scatter(*max_loc.T, c = cols, cmap = \"jet\")\n",
    "    ax[0,0].axis([-2, 2, -2, 2])\n",
    "    ax[0,0].set_aspect(\"equal\")\n",
    "    \n",
    "    #spatial_correlation at center\n",
    "    s_corr = np.exp(np.sum(-(p[512+16][None] - p)**2,axis=-1)).reshape(32,32)\n",
    "    # s_corr = np.sum(p[512+16]*p[None], axis=-1).reshape(32,32)\n",
    "\n",
    "    count = 0\n",
    "    for i in range(n_show):\n",
    "        for j in range(n_show):\n",
    "            if (i == 0) and (j == 0):\n",
    "                pass \n",
    "            else:\n",
    "                ax[i,j].imshow(p[:,count].reshape((n,n)), cmap = \"jet\", interpolation = \"none\")\n",
    "                ax[i,j].axis(\"off\")\n",
    "                count += 1\n",
    "    \n",
    "    im = ax[-1,-1].imshow(s_corr, interpolation = \"none\", vmin = 0)\n",
    "    # fig.colorbar(im)\n",
    "    \n",
    "c_slider = widgets.FloatSlider(\n",
    "    value=0,\n",
    "    min=-2.0,\n",
    "    max=2.0,\n",
    "    step=0.01,\n",
    "    description='c:',\n",
    "    readout_format='.2f')\n",
    "\n",
    "widgets.interactive(f, c = c_slider)"
   ]
  },
  {
   "cell_type": "code",
   "execution_count": null,
   "metadata": {},
   "outputs": [],
   "source": []
  },
  {
   "cell_type": "code",
   "execution_count": null,
   "metadata": {},
   "outputs": [],
   "source": []
  },
  {
   "cell_type": "code",
   "execution_count": null,
   "metadata": {},
   "outputs": [],
   "source": []
  }
 ],
 "metadata": {
  "accelerator": "GPU",
  "colab": {
   "provenance": []
  },
  "gpuClass": "standard",
  "kernelspec": {
   "display_name": "Python 3 (ipykernel)",
   "language": "python",
   "name": "python3"
  },
  "language_info": {
   "codemirror_mode": {
    "name": "ipython",
    "version": 3
   },
   "file_extension": ".py",
   "mimetype": "text/x-python",
   "name": "python",
   "nbconvert_exporter": "python",
   "pygments_lexer": "ipython3",
   "version": "3.10.13"
  },
  "vscode": {
   "interpreter": {
    "hash": "158bf1a15c4fcbb929163f5212278bc6479eee3a1438af15c35b95ec85568364"
   }
  }
 },
 "nbformat": 4,
 "nbformat_minor": 4
}

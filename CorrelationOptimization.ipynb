{
 "cells": [
  {
   "cell_type": "code",
   "execution_count": 19,
   "metadata": {
    "id": "IjDObjBy83vs"
   },
   "outputs": [],
   "source": [
    "import matplotlib.pyplot as plt\n",
    "import numpy as np\n",
    "import torch\n",
    "\n",
    "import scipy.stats\n",
    "from tqdm import tqdm\n",
    "\n",
    "import ipywidgets as widgets"
   ]
  },
  {
   "cell_type": "code",
   "execution_count": 20,
   "metadata": {
    "id": "ZEFTr84z85XS"
   },
   "outputs": [],
   "source": [
    "class SpaceNet(torch.nn.Module):\n",
    "    def __init__(self, nr):\n",
    "        super(SpaceNet, self).__init__()\n",
    "        self.flatten = torch.nn.Flatten()\n",
    "        self.spatial_representation = torch.nn.Sequential(\n",
    "            torch.nn.Linear(3, 512),\n",
    "            torch.nn.ReLU(),\n",
    "            torch.nn.Linear(512, 512),\n",
    "            torch.nn.ReLU(),\n",
    "            torch.nn.Linear(512, nr),\n",
    "            torch.nn.ReLU()\n",
    "        )\n",
    "\n",
    "    def forward(self, inputs):\n",
    "        p = self.spatial_representation(inputs) # ns, nr\n",
    "        corr = p@p.T # correlation matrix\n",
    "        return p, corr"
   ]
  },
  {
   "cell_type": "code",
   "execution_count": 21,
   "metadata": {
    "id": "M7OXE8pTkgi1"
   },
   "outputs": [],
   "source": [
    "def train_step(model, inputs, r, c, scale = 0.2):\n",
    "    p, corr = model(inputs)\n",
    "    dr = torch.sum((r[:,None] - r[None])**2, dim = -1)\n",
    "    dc = (c[:,None] - c[None])**2 \n",
    "    \n",
    "    spatial_correlation = torch.exp(-0.5/scale**2*dr)\n",
    "    context_correlation = torch.exp(-0.5/scale**2*dc)\n",
    "    correlation_loss = (corr - spatial_correlation*context_correlation)**2\n",
    "    return torch.mean(correlation_loss)"
   ]
  },
  {
   "cell_type": "code",
   "execution_count": 22,
   "metadata": {
    "colab": {
     "base_uri": "https://localhost:8080/"
    },
    "id": "dQwOiQ7AkpIk",
    "outputId": "7e88d90a-d418-4754-a556-5d7a329c5665"
   },
   "outputs": [
    {
     "name": "stderr",
     "output_type": "stream",
     "text": [
      "loss: 0.002085: 100%|██████████| 10000/10000 [01:03<00:00, 157.69it/s]\n"
     ]
    }
   ],
   "source": [
    "train_steps = 10000\n",
    "\n",
    "nr = 100 # no. of spatial representations\n",
    "bs = 512 # batch size\n",
    "\n",
    "model = SpaceNet(nr)\n",
    "optimizer = torch.optim.Adam(model.parameters(), lr=1e-3)\n",
    "\n",
    "loss_history = []\n",
    "progress = tqdm(range(train_steps))\n",
    "for i in progress: # train loop\n",
    "    optimizer.zero_grad()\n",
    "    r = torch.tensor(np.random.uniform(-1, 1, (bs, 2)), dtype= torch.float32)\n",
    "    c = torch.tensor(np.random.uniform(-1, 1, bs), dtype = torch.float32)\n",
    "    inputs = torch.cat((r, c[:,None]), dim = -1)\n",
    "    loss = train_step(model, inputs, r, c)\n",
    "\n",
    "    loss.backward()\n",
    "    optimizer.step()\n",
    "\n",
    "    if i % 10 == 0:\n",
    "        loss = loss.item()\n",
    "        loss_history.append(loss)\n",
    "        progress.set_description(f\"loss: {loss:>7f}\")"
   ]
  },
  {
   "cell_type": "code",
   "execution_count": 23,
   "metadata": {
    "colab": {
     "base_uri": "https://localhost:8080/",
     "height": 303
    },
    "id": "Qfe8RuSqUGkB",
    "outputId": "16a33e45-a23d-4979-99a9-4f1cda951cdd"
   },
   "outputs": [
    {
     "data": {
      "text/plain": [
       "Text(0, 0.5, 'Train Loss')"
      ]
     },
     "execution_count": 23,
     "metadata": {},
     "output_type": "execute_result"
    },
    {
     "data": {
      "image/png": "[encoded data removed]",
      "text/plain": [
       "<Figure size 432x288 with 1 Axes>"
      ]
     },
     "metadata": {
      "needs_background": "light"
     },
     "output_type": "display_data"
    }
   ],
   "source": [
    "plt.semilogy(np.arange(0, train_steps, 10), loss_history, \"-k\", linewidth = 0.7)\n",
    "plt.xlabel(\"Train Step\")\n",
    "plt.ylabel(\"Train Loss\")"
   ]
  },
  {
   "cell_type": "code",
   "execution_count": 24,
   "metadata": {
    "id": "t3N2N0JCmT3_"
   },
   "outputs": [],
   "source": [
    "# evaluate on 2x2 grid\n",
    "n = 32\n",
    "x = np.linspace(-1, 1, n)\n",
    "y = x.copy()\n",
    "xx, yy = np.meshgrid(x,y)\n",
    "u = torch.tensor(np.stack([xx.ravel(), yy.ravel()], axis = -1), dtype= torch.float32)"
   ]
  },
  {
   "cell_type": "code",
   "execution_count": 77,
   "metadata": {
    "id": "Qg94kxuyoiIA"
   },
   "outputs": [
    {
     "data": {
      "application/vnd.jupyter.widget-view+json": {
       "model_id": "998ada381db24a88b0955914f874e078",
       "version_major": 2,
       "version_minor": 0
      },
      "text/plain": [
       "interactive(children=(FloatSlider(value=0.0, description='c:', max=1.0, min=-1.0, step=0.01), Output()), _dom_…"
      ]
     },
     "execution_count": 77,
     "metadata": {},
     "output_type": "execute_result"
    }
   ],
   "source": [
    "n_show = 5   # show ratemaps for first n_show nodes\n",
    "cols = np.linspace(0,1, nr)\n",
    "\n",
    "def f(c):\n",
    "    fig, ax = plt.subplots(1, n_show + 1, figsize = (10, 5))\n",
    "    context = c*torch.tensor(np.ones(len(u)), dtype = torch.float32)\n",
    "    inputs = torch.cat((u, context[...,None]), dim = -1)\n",
    "    p, pcorr = model(inputs)\n",
    "    p = p.detach().numpy()\n",
    "    max_ind = np.argmax(p, axis = 0) \n",
    "    max_loc = u[max_ind]\n",
    "    mask = np.array([p[ind, i] > 0 for i, ind in enumerate(max_ind)])\n",
    "    ax[0].set_title(f\"Non-zero units: {mask.sum()}\")\n",
    "\n",
    "    ax[0].scatter(*max_loc.T, c = cols, cmap = \"jet\")\n",
    "    ax[0].axis([-1, 1, -1, 1])\n",
    "    ax[0].set_aspect(\"equal\")\n",
    "    \n",
    "    for i in range(1, n_show + 1):\n",
    "        ax[i].imshow(p[:,i-1].reshape((n,n)))\n",
    "        ax[i].axis(\"off\")\n",
    "    plt.show()\n",
    "    \n",
    "c_slider = widgets.FloatSlider(\n",
    "    value=0,\n",
    "    min=-1.0,\n",
    "    max=1.0,\n",
    "    step=0.01,\n",
    "    description='c:',\n",
    "    readout_format='.2f')\n",
    "\n",
    "widgets.interactive(f, c = c_slider)"
   ]
  },
  {
   "cell_type": "code",
   "execution_count": null,
   "metadata": {},
   "outputs": [],
   "source": []
  }
 ],
 "metadata": {
  "accelerator": "GPU",
  "colab": {
   "provenance": []
  },
  "gpuClass": "standard",
  "kernelspec": {
   "display_name": "Python 3",
   "language": "python",
   "name": "python3"
  },
  "language_info": {
   "codemirror_mode": {
    "name": "ipython",
    "version": 3
   },
   "file_extension": ".py",
   "mimetype": "text/x-python",
   "name": "python",
   "nbconvert_exporter": "python",
   "pygments_lexer": "ipython3",
   "version": "3.9.16"
  }
 },
 "nbformat": 4,
 "nbformat_minor": 4
}

{
 "cells": [
  {
   "cell_type": "code",
   "execution_count": 1,
   "id": "2ccfe0ad-5026-426f-b09c-2bef7c2c47ec",
   "metadata": {},
   "outputs": [],
   "source": [
    "import numpy as np\n",
    "import matplotlib.pyplot as plt\n",
    "plt.style.use(\"project_style.mplstyle\")"
   ]
  },
  {
   "cell_type": "code",
   "execution_count": 2,
   "id": "f4fe0673-71c0-468e-b61c-a061f30ab708",
   "metadata": {},
   "outputs": [],
   "source": [
    "def gaussian(r, mu, sig = 0.25):\n",
    "    return np.exp(-0.5/sig**2*np.sum((r[:,None] - mu[None])**2, axis = -1))\n",
    "\n",
    "def mesh(start = -1, stop = 1, n = 32):\n",
    "    x = np.linspace(start, stop, n)\n",
    "    xx, yy = np.meshgrid(x,x)\n",
    "    return np.stack((xx.ravel(), yy.ravel()), axis = -1)"
   ]
  },
  {
   "cell_type": "code",
   "execution_count": 10,
   "id": "ba7c18a0-a8db-4bbf-b783-e36ef72e318a",
   "metadata": {},
   "outputs": [],
   "source": [
    "n = 3 # visualize\n",
    "\n",
    "r = mesh()\n",
    "mu1 = np.random.uniform(-1, 1, (n, 2))\n",
    "mu2 = np.random.uniform(-1, 1, (n, 2))\n",
    "p1 = gaussian(r, mu1).reshape((32, 32, -1))\n",
    "p2 = gaussian(r, mu2).reshape((32, 32, -1))"
   ]
  },
  {
   "cell_type": "code",
   "execution_count": 12,
   "id": "e6a0f139-892e-40fe-8174-864063d8151a",
   "metadata": {},
   "outputs": [
    {
     "data": {
      "image/png": "[encoded data removed]",
      "text/plain": [
       "<Figure size 72x216 with 3 Axes>"
      ]
     },
     "metadata": {
      "needs_background": "light"
     },
     "output_type": "display_data"
    },
    {
     "data": {
      "image/png": "[encoded data removed]",
      "text/plain": [
       "<Figure size 72x216 with 3 Axes>"
      ]
     },
     "metadata": {
      "needs_background": "light"
     },
     "output_type": "display_data"
    }
   ],
   "source": [
    "figsize = (1, 3)\n",
    "fig1, ax1 = plt.subplots(3, figsize = figsize)\n",
    "fig2, ax2 = plt.subplots(3, figsize = figsize)\n",
    "\n",
    "for i in range(3):\n",
    "    ax1[i].imshow(p1[...,i])\n",
    "    ax2[i].imshow(p2[...,i])\n",
    "    ax1[i].axis(\"off\")\n",
    "    ax2[i].axis(\"off\")\n",
    "fig1.savefig(\"synth_ratemaps_before\")\n",
    "fig2.savefig(\"synth_ratemaps_after\")"
   ]
  },
  {
   "cell_type": "code",
   "execution_count": null,
   "id": "1d9b6644-72f4-4308-a2ef-24c03a96e009",
   "metadata": {},
   "outputs": [],
   "source": []
  }
 ],
 "metadata": {
  "kernelspec": {
   "display_name": "Python 3",
   "language": "python",
   "name": "python3"
  },
  "language_info": {
   "codemirror_mode": {
    "name": "ipython",
    "version": 3
   },
   "file_extension": ".py",
   "mimetype": "text/x-python",
   "name": "python",
   "nbconvert_exporter": "python",
   "pygments_lexer": "ipython3",
   "version": "3.9.16"
  }
 },
 "nbformat": 4,
 "nbformat_minor": 5
}
